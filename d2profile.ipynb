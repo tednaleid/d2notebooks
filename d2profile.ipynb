{
 "cells": [
  {
   "cell_type": "markdown",
   "metadata": {},
   "source": [
    "### Python setup\n",
    "\n",
    "See `README.md` for python environment setup instructions on OSX using `pyenv` in VSCode.  If you've got another way of getting a modern, viable python environment, feel free to use it.\n",
    "\n",
    "Here are the versions that I'm using when running this notebook:"
   ]
  },
  {
   "cell_type": "code",
   "execution_count": null,
   "metadata": {},
   "outputs": [],
   "source": [
    "import platform\n",
    "import psutil\n",
    "\n",
    "print(platform.python_version())\n",
    "\n",
    "memory_info = psutil.virtual_memory()\n",
    "print(f\"Total memory: {memory_info.total / (1024 ** 3):.2f} GB\")\n",
    "print(f\"Available memory: {memory_info.available / (1024 ** 3):.2f} GB\")\n",
    "print(f\"Used memory: {memory_info.used / (1024 ** 3):.2f} GB\")\n",
    "print(f\"Memory percent: {memory_info.percent}%\")"
   ]
  },
  {
   "cell_type": "markdown",
   "metadata": {},
   "source": [
    "### Generate a self-signed cert that we can use for the https redirect during the OAuth login\n",
    "\n",
    "You'll need to tell your browser to \"trust\" this cert after the redirect"
   ]
  },
  {
   "cell_type": "code",
   "execution_count": null,
   "metadata": {},
   "outputs": [],
   "source": [
    "import os\n",
    "import subprocess\n",
    "import shutil\n",
    "\n",
    "\n",
    "def generate_key():\n",
    "    if shutil.which(\"openssl\") is None:\n",
    "        print(\n",
    "            \"openssl is not found. Please install openssl and make sure it's on your system path. See: https://wiki.openssl.org/index.php/Binaries\"\n",
    "        )\n",
    "        return\n",
    "\n",
    "    if os.path.isfile(\"key.pem\"):\n",
    "        print(\n",
    "            \"key.pem already exists, not regenerating it. Delete it if you'd like to regenerate it.\"\n",
    "        )\n",
    "    else:\n",
    "        command = 'openssl req -x509 -newkey rsa:4096 -keyout key.pem -out cert.pem -days 365 -nodes -subj \"/C=US/ST=California/L=San Francisco/O=My Company/OU=My Division/CN=localhost\"'\n",
    "        process = subprocess.Popen(command, shell=True)\n",
    "        process.wait()\n",
    "\n",
    "\n",
    "generate_key()"
   ]
  },
  {
   "cell_type": "markdown",
   "metadata": {},
   "source": [
    "### API Key and Client ID\n",
    "\n",
    "You'll need an API Key and Client ID to interact with Bungie's API.  You can generate one on Bungie's website: https://www.bungie.net/en/Application\n",
    "\n",
    "You can generate an application with the \"Public\" OAuth type with a redirect url of: `https://localhost:7777/oauth-redirect`  - this will be used after the oauth login to get the oauth token that will be used in API requests\n",
    "\n",
    "The only scope necessary is read access: `Read your Destiny 2 information (Vault, Inventory, and Vendors), as well as Destiny 1 Vault and Inventory data` \n",
    "\n",
    "This is what it should look like:\n",
    "\n",
    "![Image](images/oauth-app-settings.png)\n",
    "\n",
    "\n",
    "Once you create your application, you should get an `OAuth client_id` and an `API Key`, values for these should be put into `config.json` along with your Bungie `username` (Steam usernames will have a 4-digit hash like `#1234` on the end).  It should look like this:\n",
    "\n",
    "```\n",
    "{ \"client_id\": \"your_client_id\", \"api_key\": \"your_api_key\", \"username\": \"your_username#1234\"}\n",
    "```\n",
    "\n",
    "This same username is used on things like https://dungeon.report to find your user.\n",
    "\n",
    "This next cell will read that file in and make the `client_id`, `api_key`, and `username` values available to the rest of the calls.\n"
   ]
  },
  {
   "cell_type": "code",
   "execution_count": null,
   "metadata": {},
   "outputs": [],
   "source": [
    "from src import config\n",
    "\n",
    "client_id, api_key, username = config.load_config()\n",
    "\n",
    "print(f\"client_id length: {len(client_id)}\")\n",
    "print(f\"api_key length: {len(api_key)}\")\n",
    "print(f\"username: {username}\")"
   ]
  },
  {
   "cell_type": "markdown",
   "metadata": {},
   "source": [
    "### Login with OAuth to get a token that'll last for 1 hour"
   ]
  },
  {
   "cell_type": "code",
   "execution_count": null,
   "metadata": {},
   "outputs": [],
   "source": [
    "from src.bungie_oauth import BungieAuth\n",
    "import datetime\n",
    "\n",
    "# perform oauth login to get the access token used in later requests.  It is good for 1 hour\n",
    "print(\n",
    "    \"We're using a self-signed certificate to run an HTTPS server on localhost, you'll need to accept the certificate in your browser.\"\n",
    ")\n",
    "access_token = BungieAuth(client_id).refresh_oauth_token()\n",
    "\n",
    "# token is good for 1 hour, print out the time that it expires\n",
    "expiration_time = datetime.datetime.now() + datetime.timedelta(hours=1)\n",
    "print(\n",
    "    f\"Access token successfully acquired at: {datetime.datetime.now().isoformat()} and expires at: {expiration_time.isoformat()}\"\n",
    ")"
   ]
  },
  {
   "cell_type": "markdown",
   "metadata": {},
   "source": [
    "### Now we're ready to talk to Bungie's API"
   ]
  },
  {
   "cell_type": "code",
   "execution_count": null,
   "metadata": {},
   "outputs": [],
   "source": [
    "from src.bungie_api import BungieApi\n",
    "\n",
    "api = BungieApi(api_key, access_token)\n",
    "\n",
    "membership_id, profile_type = api.get_primary_membership_id_and_type(username)\n",
    "\n",
    "if membership_id is not None and profile_type is not None:\n",
    "    print(f\"Membership ID: {membership_id}, Profile Type: {profile_type}\")\n",
    "    api.get_character_ids_and_classes(membership_id, profile_type)"
   ]
  },
  {
   "cell_type": "code",
   "execution_count": null,
   "metadata": {},
   "outputs": [],
   "source": [
    "# download the character profile for this membership_id\n",
    "import json\n",
    "\n",
    "# access_token, profile_type, and membership_id should be retrieved above\n",
    "# using the login_and_get_token and get_primary_membership_id_and_type functions\n",
    "\n",
    "# https://bungie-net.github.io/multi/schema_Destiny-DestinyComponentType.html#schema_Destiny-DestinyComponentType\n",
    "# 100 = profile.data.userInfo\n",
    "# 102 = profileInventory.data.items\n",
    "# 201 = characterInventories.data[character_id].items\n",
    "# 205 = characterEquipment.data[character_id].items\n",
    "# 300 = itemComponents.instances\n",
    "# 305 = profilePlugSets.data.plugs, characterPlugSets.data[character_id].plugs, itemComponents.sockets\n",
    "\n",
    "# this gives us all of the information we need for vault armor for this user\n",
    "profile = api.get_profile(\n",
    "    access_token, profile_type, membership_id, [100, 102, 201, 205, 300, 305, 309]\n",
    ")\n",
    "\n",
    "# retrieve the manifest and item/stat definitions that will be joined with profile data to determine what armor you have in your vault\n",
    "item_definitions, stat_definitions = api.get_static_definitions()\n",
    "\n",
    "os.makedirs(\"data\", exist_ok=True)\n",
    "\n",
    "# dump the profile out as json into the data directory\n",
    "with open(\"data/profile.json\", \"w\") as file:\n",
    "    json.dump(profile, file, indent=4)\n",
    "\n",
    "# dump the manifest definitions out as json into the data directory\n",
    "with open(\"data/item_definitions.json\", \"w\") as file:\n",
    "    json.dump(item_definitions, file, indent=4)\n",
    "\n",
    "# dump the stat definitions out as json into the data directory\n",
    "with open(\"data/stat_definitions.json\", \"w\") as file:\n",
    "    json.dump(stat_definitions, file, indent=4)\n",
    "\n",
    "print(\"Character profile loaded at:\", profile[\"responseMintedTimestamp\"])"
   ]
  }
 ],
 "metadata": {
  "kernelspec": {
   "display_name": ".venv",
   "language": "python",
   "name": "python3"
  },
  "language_info": {
   "codemirror_mode": {
    "name": "ipython",
    "version": 3
   },
   "file_extension": ".py",
   "mimetype": "text/x-python",
   "name": "python",
   "nbconvert_exporter": "python",
   "pygments_lexer": "ipython3",
   "version": "3.12.2"
  }
 },
 "nbformat": 4,
 "nbformat_minor": 2
}
