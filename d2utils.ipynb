{
 "cells": [
  {
   "cell_type": "markdown",
   "metadata": {},
   "source": [
    "## Utilities"
   ]
  },
  {
   "cell_type": "code",
   "execution_count": null,
   "metadata": {},
   "outputs": [],
   "source": [
    "from src import config\n",
    "\n",
    "client_id, api_key, username = config.load_config()\n",
    "\n",
    "print(f\"client_id length: {len(client_id)}\")\n",
    "print(f\"api_key length: {len(api_key)}\")\n",
    "print(f\"username: {username}\")"
   ]
  },
  {
   "cell_type": "code",
   "execution_count": null,
   "metadata": {},
   "outputs": [],
   "source": [
    "from src.bungie_oauth import BungieAuth\n",
    "import datetime\n",
    "\n",
    "# perform oauth login to get the access token used in later requests.  It is good for 1 hour\n",
    "print(\n",
    "    \"We're using a self-signed certificate to run an HTTPS server on localhost, you'll need to accept the certificate in your browser.\"\n",
    ")\n",
    "access_token = BungieAuth(client_id).refresh_oauth_token()\n",
    "\n",
    "# token is good for 1 hour, print out the time that it expires\n",
    "expiration_time = datetime.datetime.now() + datetime.timedelta(hours=1)\n",
    "print(\n",
    "    f\"Access token successfully acquired at: {datetime.datetime.now().isoformat()} and expires at: {expiration_time.isoformat()}\"\n",
    ")"
   ]
  },
  {
   "cell_type": "code",
   "execution_count": null,
   "metadata": {},
   "outputs": [],
   "source": [
    "# it's nice to have all of the manifest files downloaded locally into the data directory for reference\n",
    "import os\n",
    "import requests\n",
    "from src.bungie_api import BungieApi\n",
    "\n",
    "os.makedirs(\"data\", exist_ok=True)\n",
    "\n",
    "api = BungieApi(api_key, access_token)\n",
    "manifest = api.get_manifest()\n",
    "\n",
    "for key, value in manifest[\"Response\"][\"jsonWorldComponentContentPaths\"][\"en\"].items():\n",
    "    print(f\"Downloading {key} from {value}\")\n",
    "    response = requests.get(\n",
    "        f\"https://www.bungie.net{value}\",\n",
    "        headers={\n",
    "            \"X-API-Key\": api_key,\n",
    "        },\n",
    "    )\n",
    "    with open(f\"data/{key}.json\", \"w\") as f:\n",
    "        f.write(response.text)"
   ]
  },
  {
   "cell_type": "markdown",
   "metadata": {},
   "source": [
    "### Ignore armor tagged as `infuse` or `junk` in DIM\n",
    "\n",
    "If you [export your vault in DIM as a CSV](https://github.com/DestinyItemManager/DIM/wiki/Spreadsheets#), this can parse it and build a list of armor that the `d2armor` notebook should exclude from analysis. Adding \"#ignore\" to a DIM item's Notes field has the same effect — this can be used to exclude things like raid class items, which aren't junk, but are irrelevant to outfit calculations. "
   ]
  },
  {
   "cell_type": "code",
   "execution_count": null,
   "metadata": {},
   "outputs": [],
   "source": [
    "%run src/process-dim-armor.py"
   ]
  }
 ],
 "metadata": {
  "kernelspec": {
   "display_name": "d2notebooks-3.12.2",
   "language": "python",
   "name": "python3"
  },
  "language_info": {
   "codemirror_mode": {
    "name": "ipython",
    "version": 3
   },
   "file_extension": ".py",
   "mimetype": "text/x-python",
   "name": "python",
   "nbconvert_exporter": "python",
   "pygments_lexer": "ipython3",
   "version": "3.12.2"
  }
 },
 "nbformat": 4,
 "nbformat_minor": 2
}
